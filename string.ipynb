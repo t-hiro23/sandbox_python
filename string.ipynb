{
 "cells": [
  {
   "cell_type": "code",
   "execution_count": 87,
   "metadata": {},
   "outputs": [
    {
     "name": "stdout",
     "output_type": "stream",
     "text": [
      "b'[Tools][aaa] xxx  ,111111\\nyyy  ,222222\\n[Tools][bbb] zzz  ,333333\\n'\n"
     ]
    }
   ],
   "source": [
    "import subprocess\n",
    "import re\n",
    "\n",
    "#  git log --pretty=format:\"%s ,%H\"\n",
    "ls = subprocess.check_output(\"cat messeages.txt\")\n",
    "print(ls)"
   ]
  },
  {
   "cell_type": "code",
   "execution_count": 88,
   "metadata": {},
   "outputs": [
    {
     "name": "stdout",
     "output_type": "stream",
     "text": [
      "[Tools][aaa] xxx  ,111111\n",
      "yyy  ,222222\n",
      "[Tools][bbb] zzz  ,333333\n",
      "\n"
     ]
    }
   ],
   "source": [
    "ls_utf8 = ls.decode('utf-8')\n",
    "print(ls_utf8)"
   ]
  },
  {
   "cell_type": "code",
   "execution_count": 89,
   "metadata": {},
   "outputs": [
    {
     "name": "stdout",
     "output_type": "stream",
     "text": [
      "['[Tools][aaa] xxx  ,111111', 'yyy  ,222222', '[Tools][bbb] zzz  ,333333']\n"
     ]
    }
   ],
   "source": [
    "ls_utf8 = ls_utf8.strip()\n",
    "file_list = ls_utf8.split(\"\\n\")\n",
    "print(file_list)"
   ]
  },
  {
   "cell_type": "code",
   "execution_count": 98,
   "metadata": {},
   "outputs": [
    {
     "name": "stdout",
     "output_type": "stream",
     "text": [
      "['yyy  ,222222', '[Tools][bbb] zzz  ,333333']\n"
     ]
    }
   ],
   "source": [
    "#[aaa]を除いたリストを作る\n",
    "list_except_aaa = [line for line in file_list if \"[Tools][aaa]\" not in line]\n",
    "print(list_except_aaa)"
   ]
  },
  {
   "cell_type": "code",
   "execution_count": 106,
   "metadata": {},
   "outputs": [
    {
     "name": "stdout",
     "output_type": "stream",
     "text": [
      "['222222', '333333']\n"
     ]
    }
   ],
   "source": [
    "#list_except_aaa = [re.sub(r\"\\[.*\\]\",\"\",line).strip() for line in list_except_aaa]\n",
    "list_except_aaa = [line.split(\",\")[-1] for line in list_except_aaa]\n",
    "print(list_except_aaa)"
   ]
  },
  {
   "cell_type": "code",
   "execution_count": 110,
   "metadata": {},
   "outputs": [
    {
     "name": "stdout",
     "output_type": "stream",
     "text": [
      "echo \"222222\"\n",
      "b'222222\\n'\n",
      "echo \"333333\"\n",
      "b'333333\\n'\n"
     ]
    }
   ],
   "source": [
    "for hash in list_except_aaa:\n",
    "    echo_message = \"echo \" + \"\\\"\" + hash + \"\\\"\"\n",
    "    print(echo_message)\n",
    "    tmp = subprocess.check_output(echo_message)\n",
    "    print(tmp)"
   ]
  },
  {
   "cell_type": "code",
   "execution_count": null,
   "metadata": {},
   "outputs": [],
   "source": []
  }
 ],
 "metadata": {
  "kernelspec": {
   "display_name": "Python 3",
   "language": "python",
   "name": "python3"
  },
  "language_info": {
   "codemirror_mode": {
    "name": "ipython",
    "version": 3
   },
   "file_extension": ".py",
   "mimetype": "text/x-python",
   "name": "python",
   "nbconvert_exporter": "python",
   "pygments_lexer": "ipython3",
   "version": "3.6.4"
  }
 },
 "nbformat": 4,
 "nbformat_minor": 2
}
